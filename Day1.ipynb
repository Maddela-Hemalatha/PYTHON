{
 "cells": [
  {
   "cell_type": "markdown",
   "metadata": {},
   "source": [
    "#### Write a Python program to print all Prime numbers in an Interval."
   ]
  },
  {
   "cell_type": "code",
   "execution_count": null,
   "metadata": {},
   "outputs": [],
   "source": [
    "def isPrime(x):\n",
    "    for i in range(2,int(x**0.5)+1):\n",
    "        if(x%i == 0):\n",
    "            return False\n",
    "    return True\n",
    "        \n",
    "def check_prime_intervel(l,r):\n",
    "    for i in range(l,r+1):\n",
    "        if(isPrime(i)):\n",
    "            print(i,end=' ')\n",
    " \n",
    "check_prime_intervel(1,1000000)"
   ]
  },
  {
   "cell_type": "markdown",
   "metadata": {},
   "source": [
    "#### Write a Python Program for factorial of a number."
   ]
  },
  {
   "cell_type": "code",
   "execution_count": null,
   "metadata": {},
   "outputs": [],
   "source": [
    "def fact(n):\n",
    "    if(n == 1 or n == 0):\n",
    "        return n\n",
    "    return n*fact(n-1)\n",
    "\n",
    "print(fact(5))"
   ]
  },
  {
   "cell_type": "markdown",
   "metadata": {},
   "source": [
    "#### Find the sum of n numbers by using the while loop"
   ]
  },
  {
   "cell_type": "code",
   "execution_count": null,
   "metadata": {},
   "outputs": [],
   "source": [
    "def sum_of_n_numbers(n):\n",
    "    i=1\n",
    "    s=0\n",
    "    while i<=n:\n",
    "        s = s+i\n",
    "        i = i+1\n",
    "    print(s)\n",
    "\n",
    "    \n",
    "sum_of_n_numbers(10)"
   ]
  },
  {
   "cell_type": "code",
   "execution_count": null,
   "metadata": {},
   "outputs": [],
   "source": []
  }
 ],
 "metadata": {
  "kernelspec": {
   "display_name": "Python 3",
   "language": "python",
   "name": "python3"
  }
 },
 "nbformat": 4,
 "nbformat_minor": 4
}
