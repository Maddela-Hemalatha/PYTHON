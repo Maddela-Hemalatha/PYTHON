{
 "cells": [
  {
   "cell_type": "markdown",
   "metadata": {},
   "source": [
    "#### Write a Python program to merge two files into a third file."
   ]
  },
  {
   "cell_type": "code",
   "execution_count": 19,
   "metadata": {},
   "outputs": [],
   "source": [
    "file1 = open(\"1.txt\",\"r\")\n",
    "file2 = open(\"2.txt\",\"r\")\n",
    "file3 = open('3.txt','a+')\n",
    "file3.write(file1.read())\n",
    "file3.write(file2.read())\n",
    "for i in file3:\n",
    "    print(i)\n",
    "\n",
    "file1.close()\n",
    "file2.close()\n",
    "file3.close()"
   ]
  },
  {
   "cell_type": "markdown",
   "metadata": {},
   "source": [
    "#### Take two lists as input list1 = [1,2,3,4,5] and list2 = [\"a\", \"b\", \"c\", \"d\", \"e\"] From that make a dictionary ouput {1:\"a\", 2:\"b\", 3:\"c\", 4:\"d\", 5:\"e\"}"
   ]
  },
  {
   "cell_type": "code",
   "execution_count": 21,
   "metadata": {},
   "outputs": [
    {
     "data": {
      "text/plain": [
       "{1: 'a', 2: 'b', 3: 'c', 4: 'd', 5: 'e'}"
      ]
     },
     "execution_count": 21,
     "metadata": {},
     "output_type": "execute_result"
    }
   ],
   "source": [
    "list1 = [1,2,3,4,5]\n",
    "list2 = [\"a\", \"b\", \"c\", \"d\", \"e\"]\n",
    "dicti = {list1[i]: list2[i] for i in range(len(list1))}\n",
    "print(dicti)"
   ]
  },
  {
   "cell_type": "code",
   "execution_count": null,
   "metadata": {},
   "outputs": [],
   "source": []
  }
 ],
 "metadata": {
  "kernelspec": {
   "display_name": "Python 3",
   "language": "python",
   "name": "python3"
  },
  "language_info": {
   "codemirror_mode": {
    "name": "ipython",
    "version": 3
   },
   "file_extension": ".py",
   "mimetype": "text/x-python",
   "name": "python",
   "nbconvert_exporter": "python",
   "pygments_lexer": "ipython3",
   "version": "3.8.5"
  }
 },
 "nbformat": 4,
 "nbformat_minor": 4
}
