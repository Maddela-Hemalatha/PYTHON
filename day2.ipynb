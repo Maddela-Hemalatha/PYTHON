{
 "cells": [
  {
   "cell_type": "markdown",
   "metadata": {},
   "source": [
    "#### Write a Python program to remove empty List from List."
   ]
  },
  {
   "cell_type": "code",
   "execution_count": 5,
   "metadata": {},
   "outputs": [
    {
     "name": "stdout",
     "output_type": "stream",
     "text": [
      "Original list :  [1, 2, 3, [], 4, [], 5]\n",
      "After removing empty lis :  [1, 2, 3, 4, 5]\n"
     ]
    }
   ],
   "source": [
    "li = [1, 2, 3, [], 4, [], 5 ]\n",
    "print(\"Original list : \",li)\n",
    "res = [each for each in li if each != [] ]\n",
    "print(\"After removing empty lis : \", res)\n"
   ]
  },
  {
   "cell_type": "markdown",
   "metadata": {},
   "source": [
    "#### Write a Python program to remove all duplicates words from a given sentence"
   ]
  },
  {
   "cell_type": "code",
   "execution_count": 18,
   "metadata": {},
   "outputs": [
    {
     "name": "stdout",
     "output_type": "stream",
     "text": [
      "['Python', 'is', 'great', 'and', 'Java', 'is', 'also', 'great']\n",
      "Python is great and Java also\n"
     ]
    }
   ],
   "source": [
    "inpstr = 'Python is great and Java is also great'\n",
    "inpstr = inpstr.split(\" \")\n",
    "print(inpstr)\n",
    "dicti = Counter(inpstr)\n",
    "print(\" \".join(dicti.keys()))"
   ]
  },
  {
   "cell_type": "markdown",
   "metadata": {},
   "source": [
    "#### Write a Python program to find all occurrences of a character in the given string"
   ]
  },
  {
   "cell_type": "code",
   "execution_count": 20,
   "metadata": {},
   "outputs": [
    {
     "data": {
      "text/plain": [
       "{'P': 1,\n",
       " 'y': 1,\n",
       " 't': 3,\n",
       " 'h': 1,\n",
       " 'o': 2,\n",
       " 'n': 2,\n",
       " 'i': 2,\n",
       " 's': 3,\n",
       " 'g': 2,\n",
       " 'r': 2,\n",
       " 'e': 2,\n",
       " 'a': 6,\n",
       " 'd': 1,\n",
       " 'J': 1,\n",
       " 'v': 1,\n",
       " 'l': 1}"
      ]
     },
     "execution_count": 20,
     "metadata": {},
     "output_type": "execute_result"
    }
   ],
   "source": [
    "inpstr = 'Python is great and Java is also great'\n",
    "dicti = {}\n",
    "for i in inpstr:\n",
    "    if(i != ' '):\n",
    "        dicti[i] = inpstr.count(i)\n",
    "dicti\n",
    "    "
   ]
  },
  {
   "cell_type": "code",
   "execution_count": null,
   "metadata": {},
   "outputs": [],
   "source": []
  }
 ],
 "metadata": {
  "kernelspec": {
   "display_name": "Python 3",
   "language": "python",
   "name": "python3"
  },
  "language_info": {
   "codemirror_mode": {
    "name": "ipython",
    "version": 3
   },
   "file_extension": ".py",
   "mimetype": "text/x-python",
   "name": "python",
   "nbconvert_exporter": "python",
   "pygments_lexer": "ipython3",
   "version": "3.8.5"
  }
 },
 "nbformat": 4,
 "nbformat_minor": 4
}
